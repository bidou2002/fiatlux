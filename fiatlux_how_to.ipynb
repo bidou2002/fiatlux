{
 "cells": [
  {
   "attachments": {},
   "cell_type": "markdown",
   "metadata": {},
   "source": [
    "## Imports"
   ]
  },
  {
   "cell_type": "code",
   "execution_count": null,
   "metadata": {},
   "outputs": [],
   "source": [
    "import numpy as np\n",
    "import matplotlib.pyplot as plt\n",
    "from champ import Field\n",
    "from polarizer import Polarizer"
   ]
  },
  {
   "attachments": {},
   "cell_type": "markdown",
   "metadata": {},
   "source": [
    "## Create different types of waves"
   ]
  },
  {
   "cell_type": "code",
   "execution_count": null,
   "metadata": {},
   "outputs": [],
   "source": [
    "\n",
    "# CREATE A FLAT TITLTED FIELD WITH ARBITRARY TIP AND TILT\n",
    "f_plan_wave = Field(256, wavelength=632.8e-9, field_map='plan_wave',\n",
    "                    incidence_angles=[.51, .255])\n",
    "# CREATE A GAUSSIAN FIELD\n",
    "f_gaussian_wave = Field(256, wavelength=632.8e-9, field_map='gaussian',\n",
    "                        gaussian_center=-50, gaussian_variance=100)"
   ]
  },
  {
   "attachments": {},
   "cell_type": "markdown",
   "metadata": {},
   "source": [
    "## Display complex amplitudes"
   ]
  },
  {
   "cell_type": "code",
   "execution_count": null,
   "metadata": {},
   "outputs": [],
   "source": [
    "# DISPLAY PLAN WAVE AMPLITUDE AND PHASE\n",
    "f_plan_wave.disp_complex_amplitude()\n",
    "\n",
    "# DISPLAY PLAN WAVE AMPLITUDE AND PHASE\n",
    "f_gaussian_wave.disp_complex_amplitude()"
   ]
  },
  {
   "attachments": {},
   "cell_type": "markdown",
   "metadata": {},
   "source": [
    "## Create different types of polarizers"
   ]
  },
  {
   "cell_type": "code",
   "execution_count": null,
   "metadata": {},
   "outputs": [],
   "source": [
    "# CREATE A LINEAR POLARIZER PARALLEL TO THE HORIZONTAL AXIS\n",
    "p_linear = Polarizer('linear', angle=0)\n",
    "# CREATE A BIREFRIGENT MATERIAL POLARIZER WITH FAST AXIS ORIENTED AT PI/4 AND A\n",
    "# PI/2 PHASE RETARDATION (TO TRANSFORM AN HORIZONTAL POLARIZATION TO A\n",
    "# LEFT-HANDED CIRCULAR POLARIZATION)\n",
    "p_retarder = Polarizer('retarder', angle=-np.pi/4, phase_retardation=np.pi/2)"
   ]
  },
  {
   "attachments": {},
   "cell_type": "markdown",
   "metadata": {},
   "source": [
    "## Display polarization then propagate the field"
   ]
  },
  {
   "cell_type": "code",
   "execution_count": null,
   "metadata": {},
   "outputs": [],
   "source": [
    "# DISPLAY POINCARE SPHERE FOR UNPOLARIZED F_PLAN_WAVE (POLARIZATION DEGREE P IS\n",
    "# ZERO SO THE SPHERE IS NOT VISIBLE)\n",
    "f_plan_wave.disp_polarization()\n",
    "\n",
    "# PROPAGATE FIELD THROUGH POLARIZER\n",
    "f_plan_wave*p_linear\n",
    "\n",
    "# DISPLAY POINCARE SPHERE FOR LINEARLY POLARIZED F_PLAN_WAVE\n",
    "f_plan_wave.disp_polarization()\n",
    "\n",
    "f_plan_wave*p_retarder\n",
    "\n",
    "# DISPLAY POINCARE SPHERE FOR LINEARLY POLARIZED F_PLAN_WAVE\n",
    "f_plan_wave.disp_polarization()"
   ]
  },
  {
   "attachments": {},
   "cell_type": "markdown",
   "metadata": {},
   "source": [
    "## Malus law simulated with fiatlux"
   ]
  },
  {
   "cell_type": "code",
   "execution_count": null,
   "metadata": {},
   "outputs": [],
   "source": [
    "# DEFINE A NEW FIELD\n",
    "f = Field(256)\n",
    "# DEFINE THE POLARIZER\n",
    "polarizer = Polarizer('linear', angle=0)\n",
    "# DEFINE THE ANALYZER\n",
    "analyzer = Polarizer('linear', angle=0)\n",
    "# DEFINE THE NUMBER OF INTENSITY MEASUREMENT\n",
    "nb_measurement = 100\n",
    "# DEFINE THE ANGLES TO SCAN\n",
    "theta = np.linspace(0, 2*np.pi, nb_measurement)\n",
    "# PRE-ALLOCATE THE INTENSITY MEASUREMENT\n",
    "intensity = np.zeros((nb_measurement, 1))\n",
    "# INITIALIZE LOOPS COUNT\n",
    "idx = 0\n",
    "for i in theta:\n",
    "    # REDIFINE A UNITARY UNPOLARIZED WAVE AT EACH STEP\n",
    "    f.stokes_parameters = [1, 0, 0, 0]\n",
    "    # CHANGE THE POLARIZER'S ANGLE\n",
    "    polarizer.angle = i\n",
    "    # MAKE THE PROPAGATION\n",
    "    (f*polarizer)*analyzer\n",
    "    # STORE INTENSITY\n",
    "    intensity[idx] = f.stokes_parameters[0]\n",
    "    idx += 1\n",
    "\n",
    "# PLOT THE STUFFS\n",
    "plt.figure()\n",
    "plt.plot(theta*180/np.pi, intensity)\n",
    "plt.xlabel('Angle (in deg)')\n",
    "plt.ylabel('Intensity (in A.U.)')\n",
    "plt.title('Malus\\'s law with FiatLux code')\n",
    "plt.show()"
   ]
  }
 ],
 "metadata": {
  "kernelspec": {
   "display_name": "base",
   "language": "python",
   "name": "python3"
  },
  "language_info": {
   "codemirror_mode": {
    "name": "ipython",
    "version": 3
   },
   "file_extension": ".py",
   "mimetype": "text/x-python",
   "name": "python",
   "nbconvert_exporter": "python",
   "pygments_lexer": "ipython3",
   "version": "3.8.5 (default, Sep  4 2020, 02:22:02) \n[Clang 10.0.0 ]"
  },
  "orig_nbformat": 4,
  "vscode": {
   "interpreter": {
    "hash": "8995a3bbd41c4f708ad68510704beddfcdbb3025797febd954539b13df1ae60c"
   }
  }
 },
 "nbformat": 4,
 "nbformat_minor": 2
}
