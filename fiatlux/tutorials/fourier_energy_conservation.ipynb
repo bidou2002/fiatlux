{
 "cells": [
  {
   "cell_type": "markdown",
   "metadata": {},
   "source": [
    "## Test the energy conservation between pupil and focal plane\n",
    "With astropy.unit to get the right units <3"
   ]
  },
  {
   "cell_type": "code",
   "execution_count": 3,
   "metadata": {},
   "outputs": [
    {
     "name": "stdout",
     "output_type": "stream",
     "text": [
      "<pupil>\n",
      "  * field_size : 256 (px)\n",
      "  * scale : 64.0 pix / m (px/m)\n",
      "  * aperture_size : 1.0 m (m)\n",
      "\n",
      "\n",
      "Irradiance I before pupil, set by the user as an attribute of the initial field : 1.0 W / m2\n",
      "\n",
      "Integrated flux calculated after pupil on the field's complex amplitude 0.7880859375 W\n",
      "Integrated flux calculated from the physical values : I x π x (D/2)² 0.7853981633974483 W\n",
      "\n",
      "Integrated flux @ camera : 0.7880859375 W\n"
     ]
    }
   ],
   "source": [
    "import numpy as np\n",
    "import matplotlib.pyplot as plt\n",
    "\n",
    "from fiatlux.field import Field\n",
    "from fiatlux.pupil import Pupil\n",
    "from fiatlux.detector import Detector\n",
    "from fiatlux.propagator import Propagator\n",
    "\n",
    "import astropy.units as u\n",
    "\n",
    "N = 256\n",
    "D = 1\n",
    "f = Field(N)\n",
    "pupil = Pupil(field_size=N, aperture_shape=\"circular\", aperture_size=D)\n",
    "camera = Detector(field_size=N, display_intensity=False)\n",
    "\n",
    "print(\"\\n\")\n",
    "\n",
    "print(\n",
    "    f\"Irradiance I before pupil, set by the user as an attribute of the initial field : {f.irradiance}\\n\"\n",
    ")\n",
    "\n",
    "# Going through the pupil\n",
    "f * pupil\n",
    "\n",
    "print(\n",
    "    f\"Integrated flux calculated after pupil on the field's complex amplitude {np.sum(np.abs(f.complex_amplitude)**2)*u.pixel**2}\"\n",
    ")\n",
    "print(\n",
    "    f\"Integrated flux calculated from the physical values : I x π x (D/2)² {f.irradiance*np.pi*(pupil._aperture_size/2)**2}\\n\"\n",
    ")\n",
    "\n",
    "# Propagation to the camera\n",
    "f > camera\n",
    "\n",
    "print(f\"Integrated flux @ camera : {np.sum(np.abs(camera.complex_amplitude)**2)*u.pixel**2}\")"
   ]
  },
  {
   "cell_type": "code",
   "execution_count": null,
   "metadata": {},
   "outputs": [],
   "source": []
  },
  {
   "cell_type": "code",
   "execution_count": 2,
   "metadata": {},
   "outputs": [
    {
     "ename": "NameError",
     "evalue": "name 'a' is not defined",
     "output_type": "error",
     "traceback": [
      "\u001b[0;31m---------------------------------------------------------------------------\u001b[0m",
      "\u001b[0;31mNameError\u001b[0m                                 Traceback (most recent call last)",
      "\u001b[1;32m/Users/pjanin/Documents/GitHub/fiatlux/fiatlux/tutorials/fourier_energy_conservation.ipynb Cell 4\u001b[0m line \u001b[0;36m1\n\u001b[0;32m----> <a href='vscode-notebook-cell:/Users/pjanin/Documents/GitHub/fiatlux/fiatlux/tutorials/fourier_energy_conservation.ipynb#X12sZmlsZQ%3D%3D?line=0'>1</a>\u001b[0m a\u001b[39m.\u001b[39munit\n",
      "\u001b[0;31mNameError\u001b[0m: name 'a' is not defined"
     ]
    }
   ],
   "source": [
    "a.unit"
   ]
  },
  {
   "cell_type": "code",
   "execution_count": null,
   "metadata": {},
   "outputs": [],
   "source": []
  }
 ],
 "metadata": {
  "kernelspec": {
   "display_name": "DOSSA",
   "language": "python",
   "name": "python3"
  },
  "language_info": {
   "codemirror_mode": {
    "name": "ipython",
    "version": 3
   },
   "file_extension": ".py",
   "mimetype": "text/x-python",
   "name": "python",
   "nbconvert_exporter": "python",
   "pygments_lexer": "ipython3",
   "version": "3.10.12"
  }
 },
 "nbformat": 4,
 "nbformat_minor": 2
}
