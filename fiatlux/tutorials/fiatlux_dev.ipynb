{
 "cells": [
  {
   "cell_type": "code",
   "execution_count": 1,
   "metadata": {},
   "outputs": [],
   "source": [
    "from fiatlux.field_dev import Field\n",
    "from fiatlux.source_dev import Source, SourceType"
   ]
  },
  {
   "cell_type": "code",
   "execution_count": 2,
   "metadata": {},
   "outputs": [
    {
     "ename": "TypeError",
     "evalue": "Field.__init__() got an unexpected keyword argument 'complex_amplitude_list'",
     "output_type": "error",
     "traceback": [
      "\u001b[0;31m---------------------------------------------------------------------------\u001b[0m",
      "\u001b[0;31mTypeError\u001b[0m                                 Traceback (most recent call last)",
      "\u001b[1;32m/Users/pjanin/Documents/GitHub/fiatlux/fiatlux/tutorials/fiatlux_dev.ipynb Cellule 2\u001b[0m line \u001b[0;36m1\n\u001b[0;32m----> <a href='vscode-notebook-cell:/Users/pjanin/Documents/GitHub/fiatlux/fiatlux/tutorials/fiatlux_dev.ipynb#W1sZmlsZQ%3D%3D?line=0'>1</a>\u001b[0m f \u001b[39m=\u001b[39m Field(size\u001b[39m=\u001b[39;49m\u001b[39m256\u001b[39;49m, complex_amplitude_list\u001b[39m=\u001b[39;49m[], source_list\u001b[39m=\u001b[39;49m[])\n\u001b[1;32m      <a href='vscode-notebook-cell:/Users/pjanin/Documents/GitHub/fiatlux/fiatlux/tutorials/fiatlux_dev.ipynb#W1sZmlsZQ%3D%3D?line=1'>2</a>\u001b[0m s \u001b[39m=\u001b[39m Source(\u001b[39mtype\u001b[39m\u001b[39m=\u001b[39mSourceType\u001b[39m.\u001b[39mEXTENDED_SOURCE)\n",
      "\u001b[0;31mTypeError\u001b[0m: Field.__init__() got an unexpected keyword argument 'complex_amplitude_list'"
     ]
    }
   ],
   "source": [
    "f = Field(size=256, source_list=[])\n",
    "s = Source(type=SourceType.EXTENDED_SOURCE)"
   ]
  },
  {
   "cell_type": "code",
   "execution_count": null,
   "metadata": {},
   "outputs": [
    {
     "name": "stdout",
     "output_type": "stream",
     "text": [
      "Field(size=256, complex_amplitude_list=[], source_list=[], scale=None)\n",
      "Source(type=<SourceType.EXTENDED_SOURCE: 2>, spectrum=Spectrum(type=<SpectrumType.MONOCHROMATIC: 1>, photon_number=None))\n"
     ]
    }
   ],
   "source": [
    "print(f)\n",
    "print(s)"
   ]
  }
 ],
 "metadata": {
  "kernelspec": {
   "display_name": "DOSSA",
   "language": "python",
   "name": "python3"
  },
  "language_info": {
   "codemirror_mode": {
    "name": "ipython",
    "version": 3
   },
   "file_extension": ".py",
   "mimetype": "text/x-python",
   "name": "python",
   "nbconvert_exporter": "python",
   "pygments_lexer": "ipython3",
   "version": "3.10.12"
  }
 },
 "nbformat": 4,
 "nbformat_minor": 2
}
