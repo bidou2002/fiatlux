{
 "cells": [
  {
   "cell_type": "code",
   "execution_count": 1,
   "metadata": {},
   "outputs": [],
   "source": [
    "from fiatlux.optical_object.field_dev import Field\n",
    "from fiatlux.optical_object.source_dev import Source, PointSource, ExtendedSource\n",
    "from fiatlux.physical_object.spectrum_dev import (\n",
    "    Monochromatic,\n",
    "    Photometric,\n",
    "    SpectralBand,\n",
    ")\n",
    "from fiatlux.optical_object.propagators import FFT\n",
    "from fiatlux.optical_object.mask import CircularPupil\n",
    "\n",
    "import matplotlib.pyplot as plt\n",
    "import numpy as np\n",
    "\n",
    "\n",
    "star = PointSource(\n",
    "    incidence_angles=[0.1, 0.1],\n",
    "    spectrum=Photometric(magnitude=10, spectral_band=SpectralBand.V),\n",
    ")\n",
    "satellite = ExtendedSource(\n",
    "    incidence_angles_list=[\n",
    "        [i, j] for i, j in zip(0.5 + np.linspace(0, 0.5), np.linspace(0, 0.5))\n",
    "    ]\n",
    ")\n",
    "N = 256\n",
    "field = Field(\n",
    "    field_size=N,\n",
    "    sources=[star, satellite],\n",
    "    optical_path=[FFT(), FFT(), CircularPupil(physical_diameter=0.1,resolution=10)],\n",
    ")"
   ]
  },
  {
   "cell_type": "code",
   "execution_count": 2,
   "metadata": {},
   "outputs": [
    {
     "name": "stdout",
     "output_type": "stream",
     "text": [
      "8967391304.347826 ph / (s m2)\n",
      "2.76876411214849e+18 W ph / (J m2)\n"
     ]
    }
   ],
   "source": [
    "print(Photometric(magnitude=0, spectral_band=SpectralBand.V).photon_number)\n",
    "print(Monochromatic(wavelength=550e-9, irradiance=1).photon_number)\n"
   ]
  },
  {
   "cell_type": "code",
   "execution_count": 3,
   "metadata": {},
   "outputs": [
    {
     "name": "stdout",
     "output_type": "stream",
     "text": [
      "7042.972660901031 ph / s\n"
     ]
    }
   ],
   "source": [
    "field.resolve()\n",
    "print(field.optical_states[-1].complex_amplitudes[0].photon)"
   ]
  },
  {
   "cell_type": "code",
   "execution_count": 10,
   "metadata": {},
   "outputs": [
    {
     "data": {
      "text/plain": [
       "<matplotlib.image.AxesImage at 0x16a1f1420>"
      ]
     },
     "execution_count": 10,
     "metadata": {},
     "output_type": "execute_result"
    },
    {
     "data": {
      "image/png": "[encoded data removed]",
      "text/plain": [
       "<Figure size 640x480 with 1 Axes>"
      ]
     },
     "metadata": {},
     "output_type": "display_data"
    }
   ],
   "source": [
    "plt.imshow(np.abs(field.optical_states[-1].complex_amplitudes[1].complex_amplitude[:,:,0]))"
   ]
  },
  {
   "cell_type": "code",
   "execution_count": null,
   "metadata": {},
   "outputs": [],
   "source": []
  }
 ],
 "metadata": {
  "kernelspec": {
   "display_name": "DOSSA",
   "language": "python",
   "name": "python3"
  },
  "language_info": {
   "codemirror_mode": {
    "name": "ipython",
    "version": 3
   },
   "file_extension": ".py",
   "mimetype": "text/x-python",
   "name": "python",
   "nbconvert_exporter": "python",
   "pygments_lexer": "ipython3",
   "version": "3.10.12"
  }
 },
 "nbformat": 4,
 "nbformat_minor": 2
}
