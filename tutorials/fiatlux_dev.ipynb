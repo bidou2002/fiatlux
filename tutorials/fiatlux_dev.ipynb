{
 "cells": [
  {
   "cell_type": "code",
   "execution_count": 1,
   "metadata": {},
   "outputs": [],
   "source": [
    "from fiatlux.optical_object.field_dev import Field\n",
    "from fiatlux.optical_object.source_dev import Source, PointSource, ExtendedSource\n",
    "from fiatlux.physical_object.spectrum_dev import (\n",
    "    Monochromatic,\n",
    "    Photometric,\n",
    "    SpectralBand,\n",
    ")\n",
    "from fiatlux.optical_object.propagators import FFT\n",
    "from fiatlux.optical_object.mask import CircularPupil\n",
    "from fiatlux.optical_object.detector import Detector\n",
    "\n",
    "import matplotlib.pyplot as plt\n",
    "import numpy as np\n",
    "\n",
    "\n",
    "star = PointSource(\n",
    "    incidence_angles=[-0.1, -0.1],\n",
    "    spectrum=Photometric(magnitude=8, spectral_band=SpectralBand.V),\n",
    ")\n",
    "\n",
    "N = 680\n",
    "pupil = CircularPupil(physical_diameter=0.1, resolution=8)\n",
    "\n",
    "detector = Detector(\n",
    "    quantum_efficiency=1,\n",
    "    photon_noise=False,\n",
    "    readout_noise_variance=0,\n",
    "    dark_current=0,\n",
    "    exposure_time=.150,\n",
    "    offset=0,\n",
    "    bitdepth=12,\n",
    "    sensitivity=1,\n",
    "    random_state_generator=np.random.RandomState(\n",
    "            seed=0\n",
    "        )\n",
    ")\n",
    "\n",
    "field = Field(\n",
    "    field_size=N,\n",
    "    sources=[star],\n",
    "    optical_path=[pupil, FFT(), detector],\n",
    ")"
   ]
  },
  {
   "cell_type": "code",
   "execution_count": 2,
   "metadata": {},
   "outputs": [
    {
     "name": "stdout",
     "output_type": "stream",
     "text": [
      "source.photon_flux is 5658041.404306078 ph / (s m2)\n",
      "It gives following eq.1: 5658041.404306078 ph / (s m2) x 0.15 s x 0.007853981633974483 m2 = 6665.7229910530705 ph in the detector plane.\n",
      "Validated with the mesured integral of the noise-free intensity : 6665.722991053074 ph\n",
      "Measured signal in ADU is lower than the noise-free value given to the flooring operation : 5687 adu equivalent to 5687 ph with a unitary quantum efficiency and sensitivity.\n"
     ]
    }
   ],
   "source": [
    "# resolve field\n",
    "+field\n",
    "\n",
    "print(f\"source.photon_flux is {star.spectrum.flux}\")\n",
    "print(\n",
    "    f\"It gives following eq.1: {star.spectrum.flux} x {detector.exposure_time} x {pupil._surface} = {star.spectrum.flux * detector.exposure_time * pupil._surface} in the detector plane.\"\n",
    ")\n",
    "print(\n",
    "    f\"Validated with the mesured integral of the noise-free intensity : {np.sum(detector.noise_free_intensity)}\"\n",
    ")\n",
    "print(\n",
    "    f\"Measured signal in ADU is lower than the noise-free value given to the flooring operation : {np.sum(detector.intensity)} equivalent to {np.sum(detector.noise_free_intensity.astype(int))} with a unitary quantum efficiency and sensitivity.\"\n",
    ")"
   ]
  },
  {
   "cell_type": "code",
   "execution_count": 3,
   "metadata": {},
   "outputs": [
    {
     "data": {
      "image/png": "[encoded data removed]",
      "text/plain": [
       "<Figure size 640x480 with 2 Axes>"
      ]
     },
     "metadata": {},
     "output_type": "display_data"
    }
   ],
   "source": [
    "detector.display_intensity()"
   ]
  },
  {
   "cell_type": "code",
   "execution_count": 5,
   "metadata": {},
   "outputs": [
    {
     "ename": "ImportError",
     "evalue": "attempted relative import with no known parent package",
     "output_type": "error",
     "traceback": [
      "\u001b[0;31m---------------------------------------------------------------------------\u001b[0m",
      "\u001b[0;31mImportError\u001b[0m                               Traceback (most recent call last)",
      "\u001b[1;32m/Users/pjanin/Documents/GitHub/fiatlux/tutorials/fiatlux_dev.ipynb Cellule 4\u001b[0m line \u001b[0;36m1\n\u001b[0;32m----> <a href='vscode-notebook-cell:/Users/pjanin/Documents/GitHub/fiatlux/tutorials/fiatlux_dev.ipynb#W3sZmlsZQ%3D%3D?line=0'>1</a>\u001b[0m \u001b[39mfrom\u001b[39;00m \u001b[39m.\u001b[39;00m\u001b[39m.\u001b[39;00m\u001b[39m.\u001b[39;00m\u001b[39mDOSSA\u001b[39;00m\u001b[39m.\u001b[39;00m\u001b[39msatellite_mapping\u001b[39;00m\u001b[39m.\u001b[39;00m\u001b[39mevscope\u001b[39;00m \u001b[39mimport\u001b[39;00m Evscope\n\u001b[1;32m      <a href='vscode-notebook-cell:/Users/pjanin/Documents/GitHub/fiatlux/tutorials/fiatlux_dev.ipynb#W3sZmlsZQ%3D%3D?line=2'>3</a>\u001b[0m \u001b[39mfrom\u001b[39;00m \u001b[39mDOSSA\u001b[39;00m\u001b[39m.\u001b[39;00m\u001b[39msatellite_mapping\u001b[39;00m\u001b[39m.\u001b[39;00m\u001b[39mevscope\u001b[39;00m \u001b[39mimport\u001b[39;00m Evscope\n\u001b[1;32m      <a href='vscode-notebook-cell:/Users/pjanin/Documents/GitHub/fiatlux/tutorials/fiatlux_dev.ipynb#W3sZmlsZQ%3D%3D?line=3'>4</a>\u001b[0m \u001b[39mfrom\u001b[39;00m \u001b[39mDOSSA\u001b[39;00m\u001b[39m.\u001b[39;00m\u001b[39msatellite_mapping\u001b[39;00m\u001b[39m.\u001b[39;00m\u001b[39msatellite\u001b[39;00m \u001b[39mimport\u001b[39;00m Satellite\n",
      "\u001b[0;31mImportError\u001b[0m: attempted relative import with no known parent package"
     ]
    }
   ],
   "source": [
    "from DOSSA.satellite_mapping.evscope import Evscope\n",
    "from DOSSA.satellite_mapping.satellite import Satellite\n",
    "\n",
    "import astropy.units as u\n",
    "\n",
    "\n",
    "evscope = Evscope(pixel_scale=1.35, exposure_time=0.150)\n",
    "field_size, incidence_angles_list = evscope.satellite_frames(\n",
    "    n_frames=100,\n",
    "    heading=(-45 * u.degree).to(u.radian),\n",
    "    satellite=Satellite(altitude=400e3) ,\n",
    ")\n",
    "\n",
    "satellite = ExtendedSource(\n",
    "    incidence_angles_list=incidence_angles_list,\n",
    "    spectrum=Photometric(magnitude=6, spectral_band=SpectralBand.V),\n",
    ")"
   ]
  }
 ],
 "metadata": {
  "kernelspec": {
   "display_name": "DOSSA",
   "language": "python",
   "name": "python3"
  },
  "language_info": {
   "codemirror_mode": {
    "name": "ipython",
    "version": 3
   },
   "file_extension": ".py",
   "mimetype": "text/x-python",
   "name": "python",
   "nbconvert_exporter": "python",
   "pygments_lexer": "ipython3",
   "version": "3.10.12"
  }
 },
 "nbformat": 4,
 "nbformat_minor": 2
}
